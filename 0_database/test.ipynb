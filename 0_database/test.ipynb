{
 "cells": [
  {
   "cell_type": "code",
   "execution_count": 2,
   "metadata": {},
   "outputs": [],
   "source": [
    "import pandas as pd\n",
    "df = pd.read_csv('data/train.csv')"
   ]
  },
  {
   "cell_type": "code",
   "execution_count": 6,
   "metadata": {},
   "outputs": [
    {
     "name": "stdout",
     "output_type": "stream",
     "text": [
      "<class 'pandas.core.frame.DataFrame'>\n",
      "RangeIndex: 96294 entries, 0 to 96293\n",
      "Data columns (total 15 columns):\n",
      " #   Column        Non-Null Count  Dtype  \n",
      "---  ------        --------------  -----  \n",
      " 0   ID            96294 non-null  object \n",
      " 1   대출금액          96294 non-null  int64  \n",
      " 2   대출기간          96294 non-null  object \n",
      " 3   근로기간          96294 non-null  object \n",
      " 4   주택소유상태        96294 non-null  object \n",
      " 5   연간소득          96294 non-null  int64  \n",
      " 6   부채_대비_소득_비율   96294 non-null  float64\n",
      " 7   총계좌수          96294 non-null  int64  \n",
      " 8   대출목적          96294 non-null  object \n",
      " 9   최근_2년간_연체_횟수  96294 non-null  int64  \n",
      " 10  총상환원금         96294 non-null  int64  \n",
      " 11  총상환이자         96294 non-null  float64\n",
      " 12  총연체금액         96294 non-null  float64\n",
      " 13  연체계좌수         96294 non-null  float64\n",
      " 14  대출등급          96294 non-null  object \n",
      "dtypes: float64(4), int64(5), object(6)\n",
      "memory usage: 11.0+ MB\n"
     ]
    }
   ],
   "source": [
    "df.info()"
   ]
  },
  {
   "cell_type": "code",
   "execution_count": 4,
   "metadata": {},
   "outputs": [
    {
     "data": {
      "text/html": [
       "<div>\n",
       "<style scoped>\n",
       "    .dataframe tbody tr th:only-of-type {\n",
       "        vertical-align: middle;\n",
       "    }\n",
       "\n",
       "    .dataframe tbody tr th {\n",
       "        vertical-align: top;\n",
       "    }\n",
       "\n",
       "    .dataframe thead th {\n",
       "        text-align: right;\n",
       "    }\n",
       "</style>\n",
       "<table border=\"1\" class=\"dataframe\">\n",
       "  <thead>\n",
       "    <tr style=\"text-align: right;\">\n",
       "      <th></th>\n",
       "      <th>ID</th>\n",
       "      <th>대출금액</th>\n",
       "      <th>대출기간</th>\n",
       "      <th>근로기간</th>\n",
       "      <th>주택소유상태</th>\n",
       "      <th>연간소득</th>\n",
       "      <th>부채_대비_소득_비율</th>\n",
       "      <th>총계좌수</th>\n",
       "      <th>대출목적</th>\n",
       "      <th>최근_2년간_연체_횟수</th>\n",
       "      <th>총상환원금</th>\n",
       "      <th>총상환이자</th>\n",
       "      <th>총연체금액</th>\n",
       "      <th>연체계좌수</th>\n",
       "      <th>대출등급</th>\n",
       "    </tr>\n",
       "  </thead>\n",
       "  <tbody>\n",
       "    <tr>\n",
       "      <th>96293</th>\n",
       "      <td>TRAIN_96293</td>\n",
       "      <td>8640000</td>\n",
       "      <td>36 months</td>\n",
       "      <td>10+ years</td>\n",
       "      <td>RENT</td>\n",
       "      <td>50400000</td>\n",
       "      <td>11.8</td>\n",
       "      <td>14</td>\n",
       "      <td>신용 카드</td>\n",
       "      <td>0</td>\n",
       "      <td>596148</td>\n",
       "      <td>274956.0</td>\n",
       "      <td>0.0</td>\n",
       "      <td>0.0</td>\n",
       "      <td>C</td>\n",
       "    </tr>\n",
       "  </tbody>\n",
       "</table>\n",
       "</div>"
      ],
      "text/plain": [
       "                ID     대출금액        대출기간       근로기간 주택소유상태      연간소득  \\\n",
       "96293  TRAIN_96293  8640000   36 months  10+ years   RENT  50400000   \n",
       "\n",
       "       부채_대비_소득_비율  총계좌수   대출목적  최근_2년간_연체_횟수   총상환원금     총상환이자  총연체금액  연체계좌수  \\\n",
       "96293         11.8    14  신용 카드             0  596148  274956.0    0.0    0.0   \n",
       "\n",
       "      대출등급  \n",
       "96293    C  "
      ]
     },
     "execution_count": 4,
     "metadata": {},
     "output_type": "execute_result"
    }
   ],
   "source": [
    "df[-1:]"
   ]
  },
  {
   "cell_type": "code",
   "execution_count": null,
   "metadata": {},
   "outputs": [],
   "source": []
  },
  {
   "cell_type": "code",
   "execution_count": null,
   "metadata": {},
   "outputs": [],
   "source": []
  }
 ],
 "metadata": {
  "kernelspec": {
   "display_name": ".venv",
   "language": "python",
   "name": "python3"
  },
  "language_info": {
   "codemirror_mode": {
    "name": "ipython",
    "version": 3
   },
   "file_extension": ".py",
   "mimetype": "text/x-python",
   "name": "python",
   "nbconvert_exporter": "python",
   "pygments_lexer": "ipython3",
   "version": "3.10.12"
  }
 },
 "nbformat": 4,
 "nbformat_minor": 2
}
